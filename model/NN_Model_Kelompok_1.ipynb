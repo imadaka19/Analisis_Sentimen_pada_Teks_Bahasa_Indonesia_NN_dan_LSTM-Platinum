{
  "cells": [
    {
      "cell_type": "markdown",
      "metadata": {
        "id": "hPm0rjF0xQFB"
      },
      "source": [
        "# **Prepare datasets**"
      ]
    },
    {
      "cell_type": "markdown",
      "metadata": {
        "id": "8RTxI8g08XMg"
      },
      "source": [
        "# **Prepare train & test datasets/Splitting Dataset**"
      ]
    },
    {
      "cell_type": "markdown",
      "metadata": {
        "id": "mqRRjYf9XUF7"
      },
      "source": [
        "Split dataset menjadi 80% untuk train dan 20% untuk test."
      ]
    },
    {
      "cell_type": "code",
      "execution_count": null,
      "metadata": {
        "id": "12WXia634lSt"
      },
      "outputs": [],
      "source": [
        "import sqlite3\n",
        "import pandas as pd\n",
        "from sklearn.model_selection import train_test_split\n",
        "import pickle\n",
        "from sklearn.neural_network import MLPClassifier\n",
        "from sklearn.metrics import accuracy_score, classification_report, confusion_matrix\n",
        "import seaborn as sns\n",
        "import matplotlib.pyplot as plt\n",
        "from keras.preprocessing.text import Tokenizer\n",
        "from keras.preprocessing.sequence import pad_sequences\n",
        "from sklearn.preprocessing import LabelEncoder\n",
        "from keras.utils import to_categorical\n",
        "import re\n",
        "import nltk\n",
        "from nltk.corpus import stopwords\n",
        "from nltk.stem import WordNetLemmatizer\n",
        "from sklearn.model_selection import GridSearchCV, KFold\n",
        "import numpy as np\n",
        "from sklearn.ensemble import VotingClassifier\n",
        "from sklearn.ensemble import RandomForestClassifier\n",
        "from sklearn.svm import SVC\n",
        "from gensim.models import Word2Vec"
      ]
    },
    {
      "cell_type": "code",
      "execution_count": null,
      "metadata": {
        "id": "oBwVHBFKztUq"
      },
      "outputs": [],
      "source": [
        "conn = sqlite3.connect('challenge_database.db')\n",
        "#read stopword_table\n",
        "df = pd.read_sql_query(\"\"\"\n",
        "                SELECT\n",
        "                    *\n",
        "                FROM data_table\n",
        "              \"\"\", conn)\n",
        "conn.close()"
      ]
    },
    {
      "cell_type": "code",
      "execution_count": null,
      "metadata": {
        "id": "YNI-Kq570Ixs",
        "colab": {
          "base_uri": "https://localhost:8080/",
          "height": 423
        },
        "outputId": "6778f154-eac9-4660-89bc-4b8f90b7fcdb"
      },
      "outputs": [
        {
          "output_type": "execute_result",
          "data": {
            "text/plain": [
              "                                                    text     label  \\\n",
              "0      warung ini dimiliki oleh pengusaha pabrik tahu...  positive   \n",
              "1      mohon ulama lurus dan k212 mmbri hujjah partai...   neutral   \n",
              "2      lokasi strategis di jalan sumatera bandung . t...  positive   \n",
              "3      betapa bahagia nya diri ini saat unboxing pake...  positive   \n",
              "4      duh . jadi mahasiswa jangan sombong dong . kas...  negative   \n",
              "...                                                  ...       ...   \n",
              "10928  f - demokrat dorong upaya kemandirian energi n...   neutral   \n",
              "10929                                        tidak bosan  positive   \n",
              "10930  enak rasa masakan nya apalagi kepiting yang me...  positive   \n",
              "10931  pagi pagi di tol pasteur sudah macet parah , b...  negative   \n",
              "10932  meskipun sering belanja ke yogya di riau junct...  positive   \n",
              "\n",
              "                                              text_clean  \n",
              "0      warung dimiliki pengusaha pabrik tahu puluhan ...  \n",
              "1      mohon ulama lurus k212 mmbri hujjah partai apa...  \n",
              "2      lokasi strategis jalan sumatera bandung tempat...  \n",
              "3      betapa bahagia diri unboxing paket barang bagu...  \n",
              "4      duh jadi mahasiswa jangan sombong dong kasih k...  \n",
              "...                                                  ...  \n",
              "10928  f demokrat dorong upaya kemandirian energi nas...  \n",
              "10929                                              bosan  \n",
              "10930  enak rasa masakan kepiting menyenangkan memili...  \n",
              "10931    pagi pagi tol pasteur macet parah bikin jengkel  \n",
              "10932  meskipun sering belanja yogya riau junction ba...  \n",
              "\n",
              "[10933 rows x 3 columns]"
            ],
            "text/html": [
              "\n",
              "  <div id=\"df-030457d5-cbe2-4a45-aac0-256b2c0edaee\" class=\"colab-df-container\">\n",
              "    <div>\n",
              "<style scoped>\n",
              "    .dataframe tbody tr th:only-of-type {\n",
              "        vertical-align: middle;\n",
              "    }\n",
              "\n",
              "    .dataframe tbody tr th {\n",
              "        vertical-align: top;\n",
              "    }\n",
              "\n",
              "    .dataframe thead th {\n",
              "        text-align: right;\n",
              "    }\n",
              "</style>\n",
              "<table border=\"1\" class=\"dataframe\">\n",
              "  <thead>\n",
              "    <tr style=\"text-align: right;\">\n",
              "      <th></th>\n",
              "      <th>text</th>\n",
              "      <th>label</th>\n",
              "      <th>text_clean</th>\n",
              "    </tr>\n",
              "  </thead>\n",
              "  <tbody>\n",
              "    <tr>\n",
              "      <th>0</th>\n",
              "      <td>warung ini dimiliki oleh pengusaha pabrik tahu...</td>\n",
              "      <td>positive</td>\n",
              "      <td>warung dimiliki pengusaha pabrik tahu puluhan ...</td>\n",
              "    </tr>\n",
              "    <tr>\n",
              "      <th>1</th>\n",
              "      <td>mohon ulama lurus dan k212 mmbri hujjah partai...</td>\n",
              "      <td>neutral</td>\n",
              "      <td>mohon ulama lurus k212 mmbri hujjah partai apa...</td>\n",
              "    </tr>\n",
              "    <tr>\n",
              "      <th>2</th>\n",
              "      <td>lokasi strategis di jalan sumatera bandung . t...</td>\n",
              "      <td>positive</td>\n",
              "      <td>lokasi strategis jalan sumatera bandung tempat...</td>\n",
              "    </tr>\n",
              "    <tr>\n",
              "      <th>3</th>\n",
              "      <td>betapa bahagia nya diri ini saat unboxing pake...</td>\n",
              "      <td>positive</td>\n",
              "      <td>betapa bahagia diri unboxing paket barang bagu...</td>\n",
              "    </tr>\n",
              "    <tr>\n",
              "      <th>4</th>\n",
              "      <td>duh . jadi mahasiswa jangan sombong dong . kas...</td>\n",
              "      <td>negative</td>\n",
              "      <td>duh jadi mahasiswa jangan sombong dong kasih k...</td>\n",
              "    </tr>\n",
              "    <tr>\n",
              "      <th>...</th>\n",
              "      <td>...</td>\n",
              "      <td>...</td>\n",
              "      <td>...</td>\n",
              "    </tr>\n",
              "    <tr>\n",
              "      <th>10928</th>\n",
              "      <td>f - demokrat dorong upaya kemandirian energi n...</td>\n",
              "      <td>neutral</td>\n",
              "      <td>f demokrat dorong upaya kemandirian energi nas...</td>\n",
              "    </tr>\n",
              "    <tr>\n",
              "      <th>10929</th>\n",
              "      <td>tidak bosan</td>\n",
              "      <td>positive</td>\n",
              "      <td>bosan</td>\n",
              "    </tr>\n",
              "    <tr>\n",
              "      <th>10930</th>\n",
              "      <td>enak rasa masakan nya apalagi kepiting yang me...</td>\n",
              "      <td>positive</td>\n",
              "      <td>enak rasa masakan kepiting menyenangkan memili...</td>\n",
              "    </tr>\n",
              "    <tr>\n",
              "      <th>10931</th>\n",
              "      <td>pagi pagi di tol pasteur sudah macet parah , b...</td>\n",
              "      <td>negative</td>\n",
              "      <td>pagi pagi tol pasteur macet parah bikin jengkel</td>\n",
              "    </tr>\n",
              "    <tr>\n",
              "      <th>10932</th>\n",
              "      <td>meskipun sering belanja ke yogya di riau junct...</td>\n",
              "      <td>positive</td>\n",
              "      <td>meskipun sering belanja yogya riau junction ba...</td>\n",
              "    </tr>\n",
              "  </tbody>\n",
              "</table>\n",
              "<p>10933 rows × 3 columns</p>\n",
              "</div>\n",
              "    <div class=\"colab-df-buttons\">\n",
              "\n",
              "  <div class=\"colab-df-container\">\n",
              "    <button class=\"colab-df-convert\" onclick=\"convertToInteractive('df-030457d5-cbe2-4a45-aac0-256b2c0edaee')\"\n",
              "            title=\"Convert this dataframe to an interactive table.\"\n",
              "            style=\"display:none;\">\n",
              "\n",
              "  <svg xmlns=\"http://www.w3.org/2000/svg\" height=\"24px\" viewBox=\"0 -960 960 960\">\n",
              "    <path d=\"M120-120v-720h720v720H120Zm60-500h600v-160H180v160Zm220 220h160v-160H400v160Zm0 220h160v-160H400v160ZM180-400h160v-160H180v160Zm440 0h160v-160H620v160ZM180-180h160v-160H180v160Zm440 0h160v-160H620v160Z\"/>\n",
              "  </svg>\n",
              "    </button>\n",
              "\n",
              "  <style>\n",
              "    .colab-df-container {\n",
              "      display:flex;\n",
              "      gap: 12px;\n",
              "    }\n",
              "\n",
              "    .colab-df-convert {\n",
              "      background-color: #E8F0FE;\n",
              "      border: none;\n",
              "      border-radius: 50%;\n",
              "      cursor: pointer;\n",
              "      display: none;\n",
              "      fill: #1967D2;\n",
              "      height: 32px;\n",
              "      padding: 0 0 0 0;\n",
              "      width: 32px;\n",
              "    }\n",
              "\n",
              "    .colab-df-convert:hover {\n",
              "      background-color: #E2EBFA;\n",
              "      box-shadow: 0px 1px 2px rgba(60, 64, 67, 0.3), 0px 1px 3px 1px rgba(60, 64, 67, 0.15);\n",
              "      fill: #174EA6;\n",
              "    }\n",
              "\n",
              "    .colab-df-buttons div {\n",
              "      margin-bottom: 4px;\n",
              "    }\n",
              "\n",
              "    [theme=dark] .colab-df-convert {\n",
              "      background-color: #3B4455;\n",
              "      fill: #D2E3FC;\n",
              "    }\n",
              "\n",
              "    [theme=dark] .colab-df-convert:hover {\n",
              "      background-color: #434B5C;\n",
              "      box-shadow: 0px 1px 3px 1px rgba(0, 0, 0, 0.15);\n",
              "      filter: drop-shadow(0px 1px 2px rgba(0, 0, 0, 0.3));\n",
              "      fill: #FFFFFF;\n",
              "    }\n",
              "  </style>\n",
              "\n",
              "    <script>\n",
              "      const buttonEl =\n",
              "        document.querySelector('#df-030457d5-cbe2-4a45-aac0-256b2c0edaee button.colab-df-convert');\n",
              "      buttonEl.style.display =\n",
              "        google.colab.kernel.accessAllowed ? 'block' : 'none';\n",
              "\n",
              "      async function convertToInteractive(key) {\n",
              "        const element = document.querySelector('#df-030457d5-cbe2-4a45-aac0-256b2c0edaee');\n",
              "        const dataTable =\n",
              "          await google.colab.kernel.invokeFunction('convertToInteractive',\n",
              "                                                    [key], {});\n",
              "        if (!dataTable) return;\n",
              "\n",
              "        const docLinkHtml = 'Like what you see? Visit the ' +\n",
              "          '<a target=\"_blank\" href=https://colab.research.google.com/notebooks/data_table.ipynb>data table notebook</a>'\n",
              "          + ' to learn more about interactive tables.';\n",
              "        element.innerHTML = '';\n",
              "        dataTable['output_type'] = 'display_data';\n",
              "        await google.colab.output.renderOutput(dataTable, element);\n",
              "        const docLink = document.createElement('div');\n",
              "        docLink.innerHTML = docLinkHtml;\n",
              "        element.appendChild(docLink);\n",
              "      }\n",
              "    </script>\n",
              "  </div>\n",
              "\n",
              "\n",
              "<div id=\"df-ea3a1060-d1a5-43bc-bfb7-26f9df1f4406\">\n",
              "  <button class=\"colab-df-quickchart\" onclick=\"quickchart('df-ea3a1060-d1a5-43bc-bfb7-26f9df1f4406')\"\n",
              "            title=\"Suggest charts\"\n",
              "            style=\"display:none;\">\n",
              "\n",
              "<svg xmlns=\"http://www.w3.org/2000/svg\" height=\"24px\"viewBox=\"0 0 24 24\"\n",
              "     width=\"24px\">\n",
              "    <g>\n",
              "        <path d=\"M19 3H5c-1.1 0-2 .9-2 2v14c0 1.1.9 2 2 2h14c1.1 0 2-.9 2-2V5c0-1.1-.9-2-2-2zM9 17H7v-7h2v7zm4 0h-2V7h2v10zm4 0h-2v-4h2v4z\"/>\n",
              "    </g>\n",
              "</svg>\n",
              "  </button>\n",
              "\n",
              "<style>\n",
              "  .colab-df-quickchart {\n",
              "      --bg-color: #E8F0FE;\n",
              "      --fill-color: #1967D2;\n",
              "      --hover-bg-color: #E2EBFA;\n",
              "      --hover-fill-color: #174EA6;\n",
              "      --disabled-fill-color: #AAA;\n",
              "      --disabled-bg-color: #DDD;\n",
              "  }\n",
              "\n",
              "  [theme=dark] .colab-df-quickchart {\n",
              "      --bg-color: #3B4455;\n",
              "      --fill-color: #D2E3FC;\n",
              "      --hover-bg-color: #434B5C;\n",
              "      --hover-fill-color: #FFFFFF;\n",
              "      --disabled-bg-color: #3B4455;\n",
              "      --disabled-fill-color: #666;\n",
              "  }\n",
              "\n",
              "  .colab-df-quickchart {\n",
              "    background-color: var(--bg-color);\n",
              "    border: none;\n",
              "    border-radius: 50%;\n",
              "    cursor: pointer;\n",
              "    display: none;\n",
              "    fill: var(--fill-color);\n",
              "    height: 32px;\n",
              "    padding: 0;\n",
              "    width: 32px;\n",
              "  }\n",
              "\n",
              "  .colab-df-quickchart:hover {\n",
              "    background-color: var(--hover-bg-color);\n",
              "    box-shadow: 0 1px 2px rgba(60, 64, 67, 0.3), 0 1px 3px 1px rgba(60, 64, 67, 0.15);\n",
              "    fill: var(--button-hover-fill-color);\n",
              "  }\n",
              "\n",
              "  .colab-df-quickchart-complete:disabled,\n",
              "  .colab-df-quickchart-complete:disabled:hover {\n",
              "    background-color: var(--disabled-bg-color);\n",
              "    fill: var(--disabled-fill-color);\n",
              "    box-shadow: none;\n",
              "  }\n",
              "\n",
              "  .colab-df-spinner {\n",
              "    border: 2px solid var(--fill-color);\n",
              "    border-color: transparent;\n",
              "    border-bottom-color: var(--fill-color);\n",
              "    animation:\n",
              "      spin 1s steps(1) infinite;\n",
              "  }\n",
              "\n",
              "  @keyframes spin {\n",
              "    0% {\n",
              "      border-color: transparent;\n",
              "      border-bottom-color: var(--fill-color);\n",
              "      border-left-color: var(--fill-color);\n",
              "    }\n",
              "    20% {\n",
              "      border-color: transparent;\n",
              "      border-left-color: var(--fill-color);\n",
              "      border-top-color: var(--fill-color);\n",
              "    }\n",
              "    30% {\n",
              "      border-color: transparent;\n",
              "      border-left-color: var(--fill-color);\n",
              "      border-top-color: var(--fill-color);\n",
              "      border-right-color: var(--fill-color);\n",
              "    }\n",
              "    40% {\n",
              "      border-color: transparent;\n",
              "      border-right-color: var(--fill-color);\n",
              "      border-top-color: var(--fill-color);\n",
              "    }\n",
              "    60% {\n",
              "      border-color: transparent;\n",
              "      border-right-color: var(--fill-color);\n",
              "    }\n",
              "    80% {\n",
              "      border-color: transparent;\n",
              "      border-right-color: var(--fill-color);\n",
              "      border-bottom-color: var(--fill-color);\n",
              "    }\n",
              "    90% {\n",
              "      border-color: transparent;\n",
              "      border-bottom-color: var(--fill-color);\n",
              "    }\n",
              "  }\n",
              "</style>\n",
              "\n",
              "  <script>\n",
              "    async function quickchart(key) {\n",
              "      const quickchartButtonEl =\n",
              "        document.querySelector('#' + key + ' button');\n",
              "      quickchartButtonEl.disabled = true;  // To prevent multiple clicks.\n",
              "      quickchartButtonEl.classList.add('colab-df-spinner');\n",
              "      try {\n",
              "        const charts = await google.colab.kernel.invokeFunction(\n",
              "            'suggestCharts', [key], {});\n",
              "      } catch (error) {\n",
              "        console.error('Error during call to suggestCharts:', error);\n",
              "      }\n",
              "      quickchartButtonEl.classList.remove('colab-df-spinner');\n",
              "      quickchartButtonEl.classList.add('colab-df-quickchart-complete');\n",
              "    }\n",
              "    (() => {\n",
              "      let quickchartButtonEl =\n",
              "        document.querySelector('#df-ea3a1060-d1a5-43bc-bfb7-26f9df1f4406 button');\n",
              "      quickchartButtonEl.style.display =\n",
              "        google.colab.kernel.accessAllowed ? 'block' : 'none';\n",
              "    })();\n",
              "  </script>\n",
              "</div>\n",
              "    </div>\n",
              "  </div>\n"
            ],
            "application/vnd.google.colaboratory.intrinsic+json": {
              "type": "dataframe",
              "variable_name": "df",
              "summary": "{\n  \"name\": \"df\",\n  \"rows\": 10933,\n  \"fields\": [\n    {\n      \"column\": \"text\",\n      \"properties\": {\n        \"dtype\": \"string\",\n        \"num_unique_values\": 10933,\n        \"samples\": [\n          \"ikan laut di aceh masih mahal\",\n          \"pizza sama coffie nya enak , harga nya juga murah banget hehehe sewaktu ke sini dulu waktu hujan jadi bisa sambil santai lama sekali :\",\n          \"kalau mau merasakan roti zaman dahulu , ini salah satu tempat nya . buka nya hanya sampai sore , jadi kalau pulang kantor kadang tidak keburu ke sini\"\n        ],\n        \"semantic_type\": \"\",\n        \"description\": \"\"\n      }\n    },\n    {\n      \"column\": \"label\",\n      \"properties\": {\n        \"dtype\": \"category\",\n        \"num_unique_values\": 3,\n        \"samples\": [\n          \"positive\",\n          \"neutral\",\n          \"negative\"\n        ],\n        \"semantic_type\": \"\",\n        \"description\": \"\"\n      }\n    },\n    {\n      \"column\": \"text_clean\",\n      \"properties\": {\n        \"dtype\": \"string\",\n        \"num_unique_values\": 10809,\n        \"samples\": [\n          \"disertai nomor rekening sumbangan dikirim via jne tiki menggunakan kurir pengantaran\",\n          \"cek nomor telepon genggam 08156189559 an ari abdullah telepon genggam adik kecopetan terima kasih\",\n          \"brownies amanda brownies cukup terkenal indonesia harga cukup murah 30 50 ribu mungkin menjadi salah satu berkunjung jawa rasanya istimewa sarikaya\"\n        ],\n        \"semantic_type\": \"\",\n        \"description\": \"\"\n      }\n    }\n  ]\n}"
            }
          },
          "metadata": {},
          "execution_count": 3
        }
      ],
      "source": [
        "df"
      ]
    },
    {
      "cell_type": "code",
      "execution_count": null,
      "metadata": {
        "id": "8b7BZltyz_-r"
      },
      "outputs": [],
      "source": [
        "# data_preprocessed = df.text_clean.tolist()\n",
        "data_preprocessed = df['text_clean'].tolist()"
      ]
    },
    {
      "cell_type": "code",
      "execution_count": null,
      "metadata": {
        "id": "B-yV-x9ysrO9",
        "colab": {
          "base_uri": "https://localhost:8080/"
        },
        "outputId": "841a3f94-336d-4558-8af2-55ddb71cabe1"
      },
      "outputs": [
        {
          "output_type": "stream",
          "name": "stdout",
          "text": [
            "Index(['text', 'label', 'text_clean'], dtype='object')\n"
          ]
        }
      ],
      "source": [
        "print(df.columns)"
      ]
    },
    {
      "cell_type": "code",
      "execution_count": null,
      "metadata": {
        "id": "o4lilnt894LD",
        "colab": {
          "base_uri": "https://localhost:8080/"
        },
        "outputId": "d147cda2-a75e-4642-f77a-3551594fdf35"
      },
      "outputs": [
        {
          "output_type": "stream",
          "name": "stderr",
          "text": [
            "/usr/local/lib/python3.10/dist-packages/sklearn/base.py:318: UserWarning: Trying to unpickle estimator CountVectorizer from version 1.5.0 when using version 1.2.2. This might lead to breaking code or invalid results. Use at your own risk. For more info please refer to:\n",
            "https://scikit-learn.org/stable/model_persistence.html#security-maintainability-limitations\n",
            "  warnings.warn(\n"
          ]
        }
      ],
      "source": [
        "# Tokenisasi dan pembuatan vektor kata\n",
        "with open(\"fe_nn.p\", \"rb\") as file:\n",
        "    count_vect = pickle.load(file)\n",
        "\n",
        "with open('X_train_counts.pkl', 'rb') as file:\n",
        "    X_train = pickle.load(file)\n",
        "\n",
        "with open('X_test_counts.pkl', 'rb') as file:\n",
        "    X_test = pickle.load(file)\n",
        "\n",
        "with open('y_train.pkl', 'rb') as file:\n",
        "    y_train = pickle.load(file)\n",
        "\n",
        "with open('y_test.pkl', 'rb') as file:\n",
        "    y_test = pickle.load(file)"
      ]
    },
    {
      "cell_type": "code",
      "source": [
        "count_vect.fit(data_preprocessed)\n",
        "\n",
        "X = count_vect.transform(data_preprocessed)\n",
        "\n",
        "y = df.label"
      ],
      "metadata": {
        "id": "ttU2NrrSrzIn"
      },
      "execution_count": null,
      "outputs": []
    },
    {
      "cell_type": "code",
      "execution_count": null,
      "metadata": {
        "id": "6XN4ZtpQ-NOC",
        "colab": {
          "base_uri": "https://localhost:8080/"
        },
        "outputId": "6df84dfd-88f1-4d67-80fb-872fe0186b23"
      },
      "outputs": [
        {
          "output_type": "execute_result",
          "data": {
            "text/plain": [
              "0        positive\n",
              "1         neutral\n",
              "2        positive\n",
              "3        positive\n",
              "4        negative\n",
              "           ...   \n",
              "10928     neutral\n",
              "10929    positive\n",
              "10930    positive\n",
              "10931    negative\n",
              "10932    positive\n",
              "Name: label, Length: 10933, dtype: object"
            ]
          },
          "metadata": {},
          "execution_count": 8
        }
      ],
      "source": [
        "y"
      ]
    },
    {
      "cell_type": "code",
      "execution_count": null,
      "metadata": {
        "id": "xcJ2htg169aO"
      },
      "outputs": [],
      "source": [
        "# Encoding label\n",
        "label_encoder = LabelEncoder()\n",
        "y = label_encoder.fit_transform(y)\n",
        "y = to_categorical(y, num_classes=3)"
      ]
    },
    {
      "cell_type": "code",
      "execution_count": null,
      "metadata": {
        "id": "SQuIMe1Ov0pj",
        "colab": {
          "base_uri": "https://localhost:8080/"
        },
        "outputId": "8c82caef-ee70-41d7-8ca5-66174bf5206c"
      },
      "outputs": [
        {
          "output_type": "stream",
          "name": "stdout",
          "text": [
            "Training data shape:  (8746, 17117)\n",
            "Testing data shape:  (2187, 17117)\n"
          ]
        }
      ],
      "source": [
        "X_train, X_test, y_train, y_test = train_test_split(X, y, test_size=0.2)\n",
        "\n",
        "print(\"Training data shape: \", X_train.shape)\n",
        "print(\"Testing data shape: \", X_test.shape)"
      ]
    },
    {
      "cell_type": "code",
      "execution_count": null,
      "metadata": {
        "id": "Y-qsb5kvtUxG",
        "colab": {
          "base_uri": "https://localhost:8080/",
          "height": 660
        },
        "outputId": "b31eba47-acd7-4e8a-83d0-3c8d1c58030f"
      },
      "outputs": [
        {
          "output_type": "display_data",
          "data": {
            "text/plain": [
              "<Figure size 800x600 with 1 Axes>"
            ],
            "image/png": "[encoded data removed]"
          },
          "metadata": {}
        },
        {
          "output_type": "execute_result",
          "data": {
            "text/plain": [
              "label\n",
              "positive    6383\n",
              "negative    3412\n",
              "neutral     1138\n",
              "Name: count, dtype: int64"
            ]
          },
          "metadata": {},
          "execution_count": 11
        }
      ],
      "source": [
        "# Menampilkan distribusi sentimen\n",
        "sns.set(style='whitegrid')\n",
        "plt.figure(figsize=(8, 6))\n",
        "sns.countplot(data=df, x='label')\n",
        "plt.title('Sentiment Distribution')\n",
        "plt.xlabel('Sentiment Label')\n",
        "plt.ylabel('Count')\n",
        "plt.show()\n",
        "df.label.value_counts()"
      ]
    },
    {
      "cell_type": "code",
      "execution_count": null,
      "metadata": {
        "id": "oO1CWruIdlEo",
        "colab": {
          "base_uri": "https://localhost:8080/"
        },
        "outputId": "a98f9a86-3862-4a8e-8723-91fe2e0ce1e8"
      },
      "outputs": [
        {
          "output_type": "stream",
          "name": "stdout",
          "text": [
            "Pos: 6383, Neu: 1138, Neg: 3412\n",
            "Total data: 10933\n"
          ]
        }
      ],
      "source": [
        "# Memisahkan data berdasarkan label\n",
        "neg = df.loc[df['label'] == 'negative'].text_clean.tolist()\n",
        "neu = df.loc[df['label'] == 'neutral'].text_clean.tolist()\n",
        "pos = df.loc[df['label'] == 'positive'].text_clean.tolist()\n",
        "\n",
        "# Membuat label berdasarkan kategori\n",
        "neg_label = df.loc[df['label'] == 'negative'].label.tolist()\n",
        "neu_label = df.loc[df['label'] == 'neutral'].label.tolist()\n",
        "pos_label = df.loc[df['label'] == 'positive'].label.tolist()\n",
        "\n",
        "# Menggabungkan semua data dan label\n",
        "total_data = pos + neu + neg\n",
        "labels = pos_label + neu_label + neg_label\n",
        "\n",
        "print(\"Pos: %s, Neu: %s, Neg: %s\" % (len(pos), len(neu), len(neg)))\n",
        "print(\"Total data: %s\" % len(total_data))\n"
      ]
    },
    {
      "cell_type": "markdown",
      "metadata": {
        "id": "VSh22be77Wjj"
      },
      "source": [
        "# Prepare Train and Test Dataset (Neural Network)"
      ]
    },
    {
      "cell_type": "markdown",
      "metadata": {
        "id": "J2Z6dAMkXme_"
      },
      "source": [
        "Jalankan training dengan metode Neural Network. \"MLPClassifier\" merupakan salah satu modul dari \"Neural Network\" pada library Sklearn."
      ]
    },
    {
      "cell_type": "code",
      "execution_count": null,
      "metadata": {
        "id": "zL-0QZCH-cV9",
        "colab": {
          "base_uri": "https://localhost:8080/",
          "height": 493
        },
        "outputId": "5b9d06d8-a6e8-4896-f884-cf2a7cc6dc22"
      },
      "outputs": [
        {
          "output_type": "stream",
          "name": "stdout",
          "text": [
            "Iteration 1, loss = 0.83354148\n",
            "Iteration 2, loss = 0.30730874\n",
            "Iteration 3, loss = 0.12961413\n",
            "Iteration 4, loss = 0.07538367\n",
            "Iteration 5, loss = 0.05255511\n",
            "Iteration 6, loss = 0.04324658\n",
            "Iteration 7, loss = 0.03962684\n",
            "Iteration 8, loss = 0.03546580\n",
            "Iteration 9, loss = 0.05193868\n",
            "Iteration 10, loss = 0.03845679\n",
            "Iteration 11, loss = 0.03261885\n",
            "Iteration 12, loss = 0.02917309\n",
            "Iteration 13, loss = 0.02841140\n",
            "Iteration 14, loss = 0.02779695\n",
            "Iteration 15, loss = 0.02685966\n",
            "Iteration 16, loss = 0.02666523\n",
            "Iteration 17, loss = 0.02687184\n",
            "Iteration 18, loss = 0.02637339\n",
            "Iteration 19, loss = 0.02665309\n",
            "Iteration 20, loss = 0.05159828\n"
          ]
        },
        {
          "output_type": "stream",
          "name": "stderr",
          "text": [
            "/usr/local/lib/python3.10/dist-packages/sklearn/neural_network/_multilayer_perceptron.py:686: ConvergenceWarning: Stochastic Optimizer: Maximum iterations (20) reached and the optimization hasn't converged yet.\n",
            "  warnings.warn(\n"
          ]
        },
        {
          "output_type": "execute_result",
          "data": {
            "text/plain": [
              "MLPClassifier(alpha=1e-05, batch_size=16, hidden_layer_sizes=(128, 128),\n",
              "              max_iter=20, random_state=42, verbose=True)"
            ],
            "text/html": [
              "<style>#sk-container-id-1 {color: black;background-color: white;}#sk-container-id-1 pre{padding: 0;}#sk-container-id-1 div.sk-toggleable {background-color: white;}#sk-container-id-1 label.sk-toggleable__label {cursor: pointer;display: block;width: 100%;margin-bottom: 0;padding: 0.3em;box-sizing: border-box;text-align: center;}#sk-container-id-1 label.sk-toggleable__label-arrow:before {content: \"▸\";float: left;margin-right: 0.25em;color: #696969;}#sk-container-id-1 label.sk-toggleable__label-arrow:hover:before {color: black;}#sk-container-id-1 div.sk-estimator:hover label.sk-toggleable__label-arrow:before {color: black;}#sk-container-id-1 div.sk-toggleable__content {max-height: 0;max-width: 0;overflow: hidden;text-align: left;background-color: #f0f8ff;}#sk-container-id-1 div.sk-toggleable__content pre {margin: 0.2em;color: black;border-radius: 0.25em;background-color: #f0f8ff;}#sk-container-id-1 input.sk-toggleable__control:checked~div.sk-toggleable__content {max-height: 200px;max-width: 100%;overflow: auto;}#sk-container-id-1 input.sk-toggleable__control:checked~label.sk-toggleable__label-arrow:before {content: \"▾\";}#sk-container-id-1 div.sk-estimator input.sk-toggleable__control:checked~label.sk-toggleable__label {background-color: #d4ebff;}#sk-container-id-1 div.sk-label input.sk-toggleable__control:checked~label.sk-toggleable__label {background-color: #d4ebff;}#sk-container-id-1 input.sk-hidden--visually {border: 0;clip: rect(1px 1px 1px 1px);clip: rect(1px, 1px, 1px, 1px);height: 1px;margin: -1px;overflow: hidden;padding: 0;position: absolute;width: 1px;}#sk-container-id-1 div.sk-estimator {font-family: monospace;background-color: #f0f8ff;border: 1px dotted black;border-radius: 0.25em;box-sizing: border-box;margin-bottom: 0.5em;}#sk-container-id-1 div.sk-estimator:hover {background-color: #d4ebff;}#sk-container-id-1 div.sk-parallel-item::after {content: \"\";width: 100%;border-bottom: 1px solid gray;flex-grow: 1;}#sk-container-id-1 div.sk-label:hover label.sk-toggleable__label {background-color: #d4ebff;}#sk-container-id-1 div.sk-serial::before {content: \"\";position: absolute;border-left: 1px solid gray;box-sizing: border-box;top: 0;bottom: 0;left: 50%;z-index: 0;}#sk-container-id-1 div.sk-serial {display: flex;flex-direction: column;align-items: center;background-color: white;padding-right: 0.2em;padding-left: 0.2em;position: relative;}#sk-container-id-1 div.sk-item {position: relative;z-index: 1;}#sk-container-id-1 div.sk-parallel {display: flex;align-items: stretch;justify-content: center;background-color: white;position: relative;}#sk-container-id-1 div.sk-item::before, #sk-container-id-1 div.sk-parallel-item::before {content: \"\";position: absolute;border-left: 1px solid gray;box-sizing: border-box;top: 0;bottom: 0;left: 50%;z-index: -1;}#sk-container-id-1 div.sk-parallel-item {display: flex;flex-direction: column;z-index: 1;position: relative;background-color: white;}#sk-container-id-1 div.sk-parallel-item:first-child::after {align-self: flex-end;width: 50%;}#sk-container-id-1 div.sk-parallel-item:last-child::after {align-self: flex-start;width: 50%;}#sk-container-id-1 div.sk-parallel-item:only-child::after {width: 0;}#sk-container-id-1 div.sk-dashed-wrapped {border: 1px dashed gray;margin: 0 0.4em 0.5em 0.4em;box-sizing: border-box;padding-bottom: 0.4em;background-color: white;}#sk-container-id-1 div.sk-label label {font-family: monospace;font-weight: bold;display: inline-block;line-height: 1.2em;}#sk-container-id-1 div.sk-label-container {text-align: center;}#sk-container-id-1 div.sk-container {/* jupyter's `normalize.less` sets `[hidden] { display: none; }` but bootstrap.min.css set `[hidden] { display: none !important; }` so we also need the `!important` here to be able to override the default hidden behavior on the sphinx rendered scikit-learn.org. See: https://github.com/scikit-learn/scikit-learn/issues/21755 */display: inline-block !important;position: relative;}#sk-container-id-1 div.sk-text-repr-fallback {display: none;}</style><div id=\"sk-container-id-1\" class=\"sk-top-container\"><div class=\"sk-text-repr-fallback\"><pre>MLPClassifier(alpha=1e-05, batch_size=16, hidden_layer_sizes=(128, 128),\n",
              "              max_iter=20, random_state=42, verbose=True)</pre><b>In a Jupyter environment, please rerun this cell to show the HTML representation or trust the notebook. <br />On GitHub, the HTML representation is unable to render, please try loading this page with nbviewer.org.</b></div><div class=\"sk-container\" hidden><div class=\"sk-item\"><div class=\"sk-estimator sk-toggleable\"><input class=\"sk-toggleable__control sk-hidden--visually\" id=\"sk-estimator-id-1\" type=\"checkbox\" checked><label for=\"sk-estimator-id-1\" class=\"sk-toggleable__label sk-toggleable__label-arrow\">MLPClassifier</label><div class=\"sk-toggleable__content\"><pre>MLPClassifier(alpha=1e-05, batch_size=16, hidden_layer_sizes=(128, 128),\n",
              "              max_iter=20, random_state=42, verbose=True)</pre></div></div></div></div></div>"
            ]
          },
          "metadata": {},
          "execution_count": 13
        }
      ],
      "source": [
        "# Latih model menggunakan MLPClassifier\n",
        "model = MLPClassifier(\n",
        "    alpha=1e-5,\n",
        "    hidden_layer_sizes=(128,128),\n",
        "    solver='adam',\n",
        "    random_state=42,\n",
        "    max_iter=20,\n",
        "    activation='relu',\n",
        "    verbose=True,\n",
        "    batch_size = 16\n",
        ")\n",
        "\n",
        "model.fit(X_train, y_train)"
      ]
    },
    {
      "cell_type": "code",
      "execution_count": null,
      "metadata": {
        "id": "haoZ2QNS_wz1"
      },
      "outputs": [],
      "source": [
        "with open(\"model.p\", \"wb\") as model_file:\n",
        "    pickle.dump(model, model_file)"
      ]
    },
    {
      "cell_type": "markdown",
      "metadata": {
        "id": "PEBOX3Hg_4-i"
      },
      "source": [
        "# **Evaluation**"
      ]
    },
    {
      "cell_type": "markdown",
      "metadata": {
        "id": "6Msub2f6bswl"
      },
      "source": [
        "Langkah selanjutnya adalah \"Evaluation\". Module \"classification_report\" dari Sklearn merupakan salah satu modul untuk melakukan \"Evaluation\". Pada tahap evaluasi ini kita akan menerapkan metode evaluasi Accuracy, Precision, Recall dan F1-Score."
      ]
    },
    {
      "cell_type": "code",
      "execution_count": null,
      "metadata": {
        "id": "tKVjTALyAZkU",
        "colab": {
          "base_uri": "https://localhost:8080/"
        },
        "outputId": "83a69e48-700d-4302-932e-a0bbc199d2a2"
      },
      "outputs": [
        {
          "output_type": "stream",
          "name": "stdout",
          "text": [
            "Accuracy: 0.83\n",
            "Classification Report:\n",
            "               precision    recall  f1-score   support\n",
            "\n",
            "           0       0.74      0.77      0.75       677\n",
            "           1       0.81      0.59      0.69       234\n",
            "           2       0.88      0.90      0.89      1276\n",
            "\n",
            "    accuracy                           0.83      2187\n",
            "   macro avg       0.81      0.75      0.78      2187\n",
            "weighted avg       0.83      0.83      0.82      2187\n",
            "\n"
          ]
        }
      ],
      "source": [
        "# Evaluasi model\n",
        "predictions = model.predict(X_test)\n",
        "accuracy = accuracy_score(y_test, predictions)\n",
        "\n",
        "accuracy = accuracy_score(y_test.argmax(axis=1), predictions.argmax(axis=1))\n",
        "print(f\"Accuracy: {accuracy:.2f}\")\n",
        "print(\"Classification Report:\\n\", classification_report(y_test.argmax(axis=1), predictions.argmax(axis=1)))\n"
      ]
    },
    {
      "cell_type": "code",
      "execution_count": null,
      "metadata": {
        "id": "tImsCx9XIDzv",
        "colab": {
          "base_uri": "https://localhost:8080/",
          "height": 642
        },
        "outputId": "adbaccfc-c027-4d5a-962b-8f937fffef94"
      },
      "outputs": [
        {
          "output_type": "stream",
          "name": "stdout",
          "text": [
            "Confusion Matrix:\n",
            "[[ 522   21  134]\n",
            " [  66  139   29]\n",
            " [ 118   11 1147]]\n"
          ]
        },
        {
          "output_type": "display_data",
          "data": {
            "text/plain": [
              "<Figure size 800x600 with 2 Axes>"
            ],
            "image/png": "[encoded data removed]"
          },
          "metadata": {}
        }
      ],
      "source": [
        "import numpy as np\n",
        "from sklearn.metrics import confusion_matrix, classification_report\n",
        "\n",
        "# Menggunakan model untuk memprediksi hasil dari data uji\n",
        "predictions = model.predict(X_test)\n",
        "\n",
        "# Mengonversi hasil prediksi dari one-hot encoding ke format label\n",
        "Y_test_labels = np.argmax(y_test, axis=1)\n",
        "predictions_labels = np.argmax(predictions, axis=1)\n",
        "\n",
        "# Menghitung confusion matrix\n",
        "conf_matrix = confusion_matrix(Y_test_labels, predictions_labels)\n",
        "print(\"Confusion Matrix:\")\n",
        "print(conf_matrix)\n",
        "\n",
        "# Visualisasi confusion matrix menggunakan seaborn\n",
        "import seaborn as sns\n",
        "import matplotlib.pyplot as plt\n",
        "\n",
        "plt.figure(figsize=(8, 6))\n",
        "sns.heatmap(conf_matrix, annot=True, fmt='d', cmap='Blues', xticklabels=label_encoder.classes_, yticklabels=label_encoder.classes_)\n",
        "plt.title('Confusion Matrix')\n",
        "plt.xlabel('Predicted')\n",
        "plt.ylabel('True')\n",
        "plt.show()"
      ]
    },
    {
      "cell_type": "code",
      "source": [
        "plt.plot(model.loss_curve_)\n",
        "plt.title('Loss Curve')\n",
        "plt.xlabel('Iterations')\n",
        "plt.ylabel('Loss')\n",
        "plt.show()"
      ],
      "metadata": {
        "id": "dkYX54bkWt_U",
        "colab": {
          "base_uri": "https://localhost:8080/",
          "height": 480
        },
        "outputId": "10f41b88-721d-4777-c131-c567ae473e86"
      },
      "execution_count": null,
      "outputs": [
        {
          "output_type": "display_data",
          "data": {
            "text/plain": [
              "<Figure size 640x480 with 1 Axes>"
            ],
            "image/png": "[encoded data removed]"
          },
          "metadata": {}
        }
      ]
    },
    {
      "cell_type": "markdown",
      "metadata": {
        "id": "2KkyNf3zAnQM"
      },
      "source": [
        "## **Cross Validation**"
      ]
    },
    {
      "cell_type": "markdown",
      "metadata": {
        "id": "auq5ayT9jahC"
      },
      "source": [
        "Mekanisme evaluasi selanjutnya menggunakan \"Cross Validation\", yaitu merotasi porsi testing dari dataset agar bisa melihat model yang sudah kita buat stabil ketika dihadapkan pada data yang berbeda."
      ]
    },
    {
      "cell_type": "markdown",
      "metadata": {
        "id": "1jzAo-6HAoxm"
      },
      "source": [
        "![cross-validation.png](data:image/png;base64,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)"
      ]
    },
    {
      "cell_type": "code",
      "execution_count": null,
      "metadata": {
        "id": "Jnjv96IoA0X4",
        "colab": {
          "base_uri": "https://localhost:8080/"
        },
        "outputId": "8937037e-1542-459f-8004-de51779cde36"
      },
      "outputs": [
        {
          "output_type": "stream",
          "name": "stdout",
          "text": [
            "Training ke- 1\n",
            "              precision    recall  f1-score   support\n",
            "\n",
            "           0       0.75      0.72      0.74       690\n",
            "           1       0.81      0.63      0.71       220\n",
            "           2       0.86      0.88      0.87      1277\n",
            "\n",
            "   micro avg       0.82      0.80      0.81      2187\n",
            "   macro avg       0.81      0.74      0.77      2187\n",
            "weighted avg       0.82      0.80      0.81      2187\n",
            " samples avg       0.80      0.80      0.80      2187\n",
            "\n",
            "======================================================\n"
          ]
        },
        {
          "output_type": "stream",
          "name": "stderr",
          "text": [
            "/usr/local/lib/python3.10/dist-packages/sklearn/metrics/_classification.py:1344: UndefinedMetricWarning: Precision and F-score are ill-defined and being set to 0.0 in samples with no predicted labels. Use `zero_division` parameter to control this behavior.\n",
            "  _warn_prf(average, modifier, msg_start, len(result))\n"
          ]
        },
        {
          "output_type": "stream",
          "name": "stdout",
          "text": [
            "Training ke- 2\n",
            "              precision    recall  f1-score   support\n",
            "\n",
            "           0       0.74      0.73      0.74       667\n",
            "           1       0.75      0.60      0.67       219\n",
            "           2       0.88      0.87      0.87      1301\n",
            "\n",
            "   micro avg       0.82      0.80      0.81      2187\n",
            "   macro avg       0.79      0.73      0.76      2187\n",
            "weighted avg       0.82      0.80      0.81      2187\n",
            " samples avg       0.79      0.80      0.79      2187\n",
            "\n",
            "======================================================\n"
          ]
        },
        {
          "output_type": "stream",
          "name": "stderr",
          "text": [
            "/usr/local/lib/python3.10/dist-packages/sklearn/metrics/_classification.py:1344: UndefinedMetricWarning: Precision and F-score are ill-defined and being set to 0.0 in samples with no predicted labels. Use `zero_division` parameter to control this behavior.\n",
            "  _warn_prf(average, modifier, msg_start, len(result))\n"
          ]
        },
        {
          "output_type": "stream",
          "name": "stdout",
          "text": [
            "Training ke- 3\n",
            "              precision    recall  f1-score   support\n",
            "\n",
            "           0       0.75      0.72      0.73       695\n",
            "           1       0.80      0.62      0.70       213\n",
            "           2       0.86      0.87      0.86      1279\n",
            "\n",
            "   micro avg       0.82      0.80      0.81      2187\n",
            "   macro avg       0.80      0.74      0.77      2187\n",
            "weighted avg       0.82      0.80      0.81      2187\n",
            " samples avg       0.79      0.80      0.79      2187\n",
            "\n",
            "======================================================\n"
          ]
        },
        {
          "output_type": "stream",
          "name": "stderr",
          "text": [
            "/usr/local/lib/python3.10/dist-packages/sklearn/metrics/_classification.py:1344: UndefinedMetricWarning: Precision and F-score are ill-defined and being set to 0.0 in samples with no predicted labels. Use `zero_division` parameter to control this behavior.\n",
            "  _warn_prf(average, modifier, msg_start, len(result))\n"
          ]
        },
        {
          "output_type": "stream",
          "name": "stdout",
          "text": [
            "Training ke- 4\n",
            "              precision    recall  f1-score   support\n",
            "\n",
            "           0       0.71      0.71      0.71       705\n",
            "           1       0.82      0.59      0.68       234\n",
            "           2       0.86      0.86      0.86      1247\n",
            "\n",
            "   micro avg       0.80      0.78      0.79      2186\n",
            "   macro avg       0.79      0.72      0.75      2186\n",
            "weighted avg       0.80      0.78      0.79      2186\n",
            " samples avg       0.77      0.78      0.78      2186\n",
            "\n",
            "======================================================\n"
          ]
        },
        {
          "output_type": "stream",
          "name": "stderr",
          "text": [
            "/usr/local/lib/python3.10/dist-packages/sklearn/metrics/_classification.py:1344: UndefinedMetricWarning: Precision and F-score are ill-defined and being set to 0.0 in samples with no predicted labels. Use `zero_division` parameter to control this behavior.\n",
            "  _warn_prf(average, modifier, msg_start, len(result))\n"
          ]
        },
        {
          "output_type": "stream",
          "name": "stdout",
          "text": [
            "Training ke- 5\n",
            "              precision    recall  f1-score   support\n",
            "\n",
            "           0       0.71      0.69      0.70       655\n",
            "           1       0.80      0.56      0.66       252\n",
            "           2       0.85      0.87      0.86      1279\n",
            "\n",
            "   micro avg       0.80      0.78      0.79      2186\n",
            "   macro avg       0.79      0.70      0.74      2186\n",
            "weighted avg       0.80      0.78      0.79      2186\n",
            " samples avg       0.77      0.78      0.77      2186\n",
            "\n",
            "======================================================\n",
            "\n",
            "\n",
            "\n",
            "Rata-rata Accuracy:  0.775905448104515\n"
          ]
        },
        {
          "output_type": "stream",
          "name": "stderr",
          "text": [
            "/usr/local/lib/python3.10/dist-packages/sklearn/metrics/_classification.py:1344: UndefinedMetricWarning: Precision and F-score are ill-defined and being set to 0.0 in samples with no predicted labels. Use `zero_division` parameter to control this behavior.\n",
            "  _warn_prf(average, modifier, msg_start, len(result))\n"
          ]
        }
      ],
      "source": [
        "# Untuk lebih menyakinkan lagi, kita juga bisa melakukan \"Cross Validation\"\n",
        "import numpy as np\n",
        "from sklearn.neural_network import MLPClassifier\n",
        "from sklearn.metrics import classification_report\n",
        "from sklearn.metrics import accuracy_score\n",
        "from sklearn.model_selection import KFold\n",
        "\n",
        "kf = KFold(n_splits=5,random_state=42,shuffle=True)\n",
        "\n",
        "accuracies = []\n",
        "\n",
        "for iteration, data in enumerate(kf.split(X), start=1):\n",
        "\n",
        "    data_train = X[data[0]]\n",
        "    target_train = y[data[0]]\n",
        "    data_test = X[data[1]]\n",
        "    target_test = y[data[1]]\n",
        "\n",
        "    clf = MLPClassifier(alpha=1e-5, hidden_layer_sizes=(100,), solver='adam', random_state=42, activation='relu')\n",
        "    clf.fit(data_train,target_train)\n",
        "\n",
        "    preds = clf.predict(data_test)\n",
        "\n",
        "    # for the current fold only\n",
        "    accuracy = accuracy_score(target_test,preds)\n",
        "\n",
        "    print(\"Training ke-\", iteration)\n",
        "    print(classification_report(target_test,preds))\n",
        "    print(\"======================================================\")\n",
        "\n",
        "    accuracies.append(accuracy)\n",
        "\n",
        "# this is the average accuracy over all folds\n",
        "average_accuracy = np.mean(accuracies)\n",
        "\n",
        "print()\n",
        "print()\n",
        "print()\n",
        "print(\"Rata-rata Accuracy: \", average_accuracy)"
      ]
    },
    {
      "cell_type": "markdown",
      "metadata": {
        "id": "313jDVEtjv35"
      },
      "source": [
        "Hasilnya nilai rata-rata accuracy pada angka 0.8. Ini menunjukkan model kita cukup stabil pada angka 0.8."
      ]
    },
    {
      "cell_type": "markdown",
      "metadata": {
        "id": "mOSAsI5xA8CB"
      },
      "source": [
        "# Predict"
      ]
    },
    {
      "cell_type": "markdown",
      "metadata": {
        "id": "WenRtoQqkCKp"
      },
      "source": [
        ":*Asumsi* kita sudah oke dengan model yang dibikin, selanjutnya melakukan predict pada model untuk mengetes jika model sudah jalan."
      ]
    },
    {
      "cell_type": "code",
      "execution_count": null,
      "metadata": {
        "id": "hTjBppLgA33M",
        "colab": {
          "base_uri": "https://localhost:8080/"
        },
        "outputId": "83ccffef-ae00-4ee5-81dd-0ad9c13fc8ad"
      },
      "outputs": [
        {
          "output_type": "stream",
          "name": "stdout",
          "text": [
            "Text: restoran yang berkonsep terbuka ini membuat udara lembang sangat terasa sejuk nya .\n",
            "Predicted Sentiment: positive\n"
          ]
        }
      ],
      "source": [
        "import re\n",
        "import pickle\n",
        "\n",
        "def cleansing(text):\n",
        "    # Example of basic text cleaning, you can modify as needed\n",
        "    text = re.sub(r'\\W', ' ', text)\n",
        "    text = text.lower().strip()\n",
        "    return text\n",
        "\n",
        "# Load the model and count vectorizer\n",
        "model = pickle.load(open('/content/model.p', 'rb'))\n",
        "\n",
        "# Example text for prediction\n",
        "original_text = 'restoran yang berkonsep terbuka ini membuat udara lembang sangat terasa sejuk nya .'\n",
        "\n",
        "# Feature Extraction\n",
        "text = count_vect.transform([cleansing(original_text)])\n",
        "\n",
        "# Predict sentiment\n",
        "result = model.predict(text)[0]\n",
        "\n",
        "# Convert the one-hot encoded result to label\n",
        "predicted_label_index = np.argmax(result)\n",
        "predicted_label = label_encoder.inverse_transform([predicted_label_index])[0]\n",
        "\n",
        "print(f\"Text: {original_text}\")\n",
        "print(f\"Predicted Sentiment: {predicted_label}\")\n"
      ]
    },
    {
      "cell_type": "code",
      "execution_count": null,
      "metadata": {
        "id": "2mUq29BTNy6-",
        "colab": {
          "base_uri": "https://localhost:8080/"
        },
        "outputId": "d0a736fc-ec0a-43f7-e076-bab7e98be90e"
      },
      "outputs": [
        {
          "output_type": "stream",
          "name": "stdout",
          "text": [
            "Text: simcard indosat inaktiv gara-gara lupa isi pulsa dan kabar nya aktif jika pinda ke pasca bayar , ribet banget\n",
            "Predicted Sentiment: negative\n"
          ]
        }
      ],
      "source": [
        "import re\n",
        "import pickle\n",
        "\n",
        "def cleansing(text):\n",
        "    # Example of basic text cleaning, you can modify as needed\n",
        "    text = re.sub(r'\\W', ' ', text)\n",
        "    text = text.lower().strip()\n",
        "    return text\n",
        "\n",
        "# Load the model and count vectorizer\n",
        "model = pickle.load(open('/content/model.p', 'rb'))\n",
        "\n",
        "# Example text for prediction\n",
        "original_text = 'simcard indosat inaktiv gara-gara lupa isi pulsa dan kabar nya aktif jika pinda ke pasca bayar , ribet banget'\n",
        "\n",
        "# Feature Extraction\n",
        "text = count_vect.transform([cleansing(original_text)])\n",
        "\n",
        "# Predict sentiment\n",
        "result = model.predict(text)[0]\n",
        "\n",
        "# Convert the one-hot encoded result to label\n",
        "predicted_label_index = np.argmax(result)\n",
        "predicted_label = label_encoder.inverse_transform([predicted_label_index])[0]\n",
        "\n",
        "print(f\"Text: {original_text}\")\n",
        "print(f\"Predicted Sentiment: {predicted_label}\")\n"
      ]
    },
    {
      "cell_type": "code",
      "execution_count": null,
      "metadata": {
        "id": "cu3__V_VOaQY",
        "colab": {
          "base_uri": "https://localhost:8080/"
        },
        "outputId": "7b737e25-3b96-401e-de6b-21f88ba8dc7a"
      },
      "outputs": [
        {
          "output_type": "stream",
          "name": "stdout",
          "text": [
            "Text: perkeretaapian kemhub , dirut ap2 , dirut pt kami , dan dirut railink\n",
            "Predicted Sentiment: neutral\n"
          ]
        }
      ],
      "source": [
        "import re\n",
        "import pickle\n",
        "\n",
        "def cleansing(text):\n",
        "    # Example of basic text cleaning, you can modify as needed\n",
        "    text = re.sub(r'\\W', ' ', text)\n",
        "    text = text.lower().strip()\n",
        "    return text\n",
        "\n",
        "# Load the model and count vectorizer\n",
        "model = pickle.load(open('/content/model.p', 'rb'))\n",
        "\n",
        "# Example text for prediction\n",
        "original_text = 'perkeretaapian kemhub , dirut ap2 , dirut pt kami , dan dirut railink'\n",
        "\n",
        "# Feature Extraction\n",
        "text = count_vect.transform([cleansing(original_text)])\n",
        "\n",
        "# Predict sentiment\n",
        "result = model.predict(text)[0]\n",
        "\n",
        "# Convert the one-hot encoded result to label\n",
        "predicted_label_index = np.argmax(result)\n",
        "predicted_label = label_encoder.inverse_transform([predicted_label_index])[0]\n",
        "\n",
        "print(f\"Text: {original_text}\")\n",
        "print(f\"Predicted Sentiment: {predicted_label}\")\n"
      ]
    }
  ],
  "metadata": {
    "accelerator": "GPU",
    "colab": {
      "gpuType": "T4",
      "provenance": []
    },
    "kernelspec": {
      "display_name": "Python 3",
      "name": "python3"
    }
  },
  "nbformat": 4,
  "nbformat_minor": 0
}